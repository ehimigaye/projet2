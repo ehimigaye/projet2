{
 "cells": [
  {
   "cell_type": "code",
   "execution_count": 1,
   "id": "0ff85321",
   "metadata": {},
   "outputs": [
    {
     "name": "stdout",
     "output_type": "stream",
     "text": [
      "3\n",
      "nombre d' éléments de la liste : 3\n",
      "2\n",
      "3\n",
      "6\n",
      "[2, 3, 6]\n",
      "le resultat demandé: 36\n"
     ]
    }
   ],
   "source": [
    "#question 1:\n",
    "#premiere difficulté la création de la liste , nous commencerons par une liste vide.\n",
    "l = []\n",
    "multi = 1\n",
    "# nous integrons la taille de la future liste.\n",
    "taille = int(input())\n",
    "print(\"nombre d' éléments de la liste :\" ,taille)\n",
    "# nous integrons ensuite la taille de celle ci\n",
    "for i in range (0,taille):\n",
    "    element = int(input())\n",
    "    \n",
    "    l.append(element)# ajout de l' element\n",
    "    multi = multi*element  # multiplication avec les elements antérieurs\n",
    "    \n",
    "#verifions que la liste est bien faite \n",
    "print(l)\n",
    "\n",
    "print(\"le resultat demandé:\",multi)"
   ]
  },
  {
   "cell_type": "code",
   "execution_count": 1,
   "id": "c006da57",
   "metadata": {},
   "outputs": [
    {
     "name": "stdout",
     "output_type": "stream",
     "text": [
      "2\n",
      "155\n",
      "25\n",
      "(155, 25)\n",
      "42\n",
      "13\n",
      "(42, 13)\n",
      "la liste à trier, [(155, 25), (42, 13)]\n",
      "le résultat du tri de la liste: [(42, 13), (155, 25)]\n"
     ]
    }
   ],
   "source": [
    "#question 2\n",
    "# commencons par la creation de la liste de tuples en doublons\n",
    "p = []\n",
    "# intégrons le nombre de doublons \n",
    "x = int(input())\n",
    "# ensuite incrementons une boucle for pour le nombre doublons\n",
    "for i in range (0,x):\n",
    "    # une deuxieme boucle for liée à la premiere pour intégrer les deux elements de chaque tuplet\n",
    "    for j in range (0,1) :\n",
    "        element1 = int(input())\n",
    "        element2 = int(input())\n",
    "        tupl = (element1, element2)\n",
    "    print (tupl)\n",
    "    #saisissons chaque tuplet dans la liste finale \n",
    "    p.append(tupl)\n",
    "# Verifions le resultat\n",
    "print(\"la liste à trier,\", p)\n",
    "\n",
    "# creons un clé de tri pour le tri de la liste en fonction du deuxieme element de chaque tuplet\n",
    "def getkey(element):\n",
    "    return element[1]\n",
    "# faisons le tri \n",
    "a= sorted (p, key=getkey)\n",
    "# le resultat \n",
    "print (\"le résultat du tri de la liste:\", a)"
   ]
  },
  {
   "cell_type": "code",
   "execution_count": 1,
   "id": "b8221a3a",
   "metadata": {},
   "outputs": [
    {
     "name": "stdout",
     "output_type": "stream",
     "text": [
      "{'a': 100, 'b': 200, 'c': 300}\n",
      "{'a': 300, 'b': 200, 'd': 400}\n",
      "Counter({'a': 400, 'b': 400, 'd': 400, 'c': 300})\n"
     ]
    }
   ],
   "source": [
    "#Question 3\n",
    "#Creons les deux dictionnaires :\n",
    "dic1 = {}\n",
    "dic2 = {}\n",
    "dic1[\"a\"]=100\n",
    "dic1[\"b\"]=200\n",
    "dic1[\"c\"]=300\n",
    "dic2[\"a\"]=300\n",
    "dic2[\"b\"]=200\n",
    "dic2[\"d\"]=400\n",
    "#Verifions les deux dictionnaires :\n",
    "print(dic1)\n",
    "print(dic2)\n",
    "#Importons une la sous classe Counter :\n",
    "from collections import Counter\n",
    "dic3 = Counter(dic1)+Counter(dic2)\n",
    "#verifions le resultat\n",
    "print(dic3)"
   ]
  },
  {
   "cell_type": "code",
   "execution_count": 1,
   "id": "c171befa",
   "metadata": {},
   "outputs": [
    {
     "name": "stdout",
     "output_type": "stream",
     "text": [
      "8\n",
      "{1: 1, 2: 4, 3: 9, 4: 16, 5: 25, 6: 36, 7: 49, 8: 64}\n"
     ]
    }
   ],
   "source": [
    "#Question 4 :\n",
    "# nous allons d' abord creer le dictionnaire :\n",
    "impl = {}\n",
    "# Ensuite integrer le nombre d' éléments :\n",
    "g = int(input())\n",
    "# Enfin implementons les items un par un :\n",
    "for i in range (1,g+1) :\n",
    "    impl[i] = i*i\n",
    "#verifions le résultat :\n",
    "print(impl)\n",
    "    "
   ]
  },
  {
   "cell_type": "code",
   "execution_count": 2,
   "id": "be5f24fc",
   "metadata": {},
   "outputs": [
    {
     "name": "stdout",
     "output_type": "stream",
     "text": [
      "(('item1', '12.20'), ('item2', '15.10'), ('item3', '24.5'))\n",
      "[('item3', '24.5'), ('item2', '15.10'), ('item1', '12.20')]\n"
     ]
    }
   ],
   "source": [
    "#Question 5 :\n",
    "#creer le tuple :\n",
    "montuple = (('item1', '12.20'), ('item2', '15.10'), ('item3', '24.5'))\n",
    "# verifier le tuple :\n",
    "print(montuple)\n",
    "#definir la clé de tri :\n",
    "def getkey(montuple):\n",
    "    return montuple[1]\n",
    "#definir le tri decroissant \n",
    "montuple1 = sorted (montuple, key=getkey,reverse = True) \n",
    "# verifions le résultat\n",
    "print(montuple1)"
   ]
  },
  {
   "cell_type": "code",
   "execution_count": 3,
   "id": "3a002d20",
   "metadata": {},
   "outputs": [
    {
     "name": "stdout",
     "output_type": "stream",
     "text": [
      "5\n",
      "0\n",
      "1\n",
      "2\n",
      "3\n",
      "4\n",
      "{0, 1, 2, 3, 4}\n",
      "element : 0\n",
      "element : 1\n",
      "element : 2\n",
      "element : 3\n",
      "element : 4\n",
      "10\n"
     ]
    }
   ],
   "source": [
    "#Question 6 :\n",
    "# creer un ensemble :\n",
    "monensemble = set()\n",
    "# imputer le nombre d' elements:\n",
    "mi = int(input())\n",
    "# preparer la sommation :\n",
    "somme = 0\n",
    "#Creation d' une boucle\n",
    "for i in range (0,mi):\n",
    "    \n",
    "    ajout = int(input()) # imputer de l' element\n",
    "    monensemble.add(ajout)# ajouter l' element \n",
    "    somme = ajout + somme # faire la sommation\n",
    "# verifier l' ensemble\n",
    "print(monensemble)\n",
    "# montrer les iterations\n",
    "for elem in monensemble :              \n",
    "  print(\"element :\", elem)\n",
    "print(somme)\n"
   ]
  },
  {
   "cell_type": "code",
   "execution_count": null,
   "id": "565a7627",
   "metadata": {},
   "outputs": [],
   "source": []
  }
 ],
 "metadata": {
  "kernelspec": {
   "display_name": "Python 3 (ipykernel)",
   "language": "python",
   "name": "python3"
  },
  "language_info": {
   "codemirror_mode": {
    "name": "ipython",
    "version": 3
   },
   "file_extension": ".py",
   "mimetype": "text/x-python",
   "name": "python",
   "nbconvert_exporter": "python",
   "pygments_lexer": "ipython3",
   "version": "3.9.13"
  }
 },
 "nbformat": 4,
 "nbformat_minor": 5
}
